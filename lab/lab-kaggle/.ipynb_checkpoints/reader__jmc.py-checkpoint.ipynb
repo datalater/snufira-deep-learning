{
 "cells": [
  {
   "cell_type": "code",
   "execution_count": 43,
   "metadata": {
    "collapsed": true
   },
   "outputs": [],
   "source": [
    "# -*- coding: utf-8 -*-\n",
    "\n",
    "import tensorflow as tf\n",
    "import numpy as np\n",
    "import csv"
   ]
  },
  {
   "cell_type": "code",
   "execution_count": 46,
   "metadata": {},
   "outputs": [
    {
     "ename": "AttributeError",
     "evalue": "'reader' object has no attribute 'id'",
     "output_type": "error",
     "traceback": [
      "\u001b[0;31m---------------------------------------------------------------------------\u001b[0m",
      "\u001b[0;31mAttributeError\u001b[0m                            Traceback (most recent call last)",
      "\u001b[0;32m<ipython-input-46-7508b20e6e63>\u001b[0m in \u001b[0;36m<module>\u001b[0;34m()\u001b[0m\n\u001b[1;32m     97\u001b[0m \u001b[0;34m\u001b[0m\u001b[0m\n\u001b[1;32m     98\u001b[0m \u001b[0mc\u001b[0m \u001b[0;34m=\u001b[0m \u001b[0mreader\u001b[0m\u001b[0;34m(\u001b[0m\u001b[0;34m)\u001b[0m\u001b[0;34m\u001b[0m\u001b[0m\n\u001b[0;32m---> 99\u001b[0;31m \u001b[0mc\u001b[0m\u001b[0;34m.\u001b[0m\u001b[0mnext_batch\u001b[0m\u001b[0;34m(\u001b[0m\u001b[0;36m6\u001b[0m\u001b[0;34m)\u001b[0m\u001b[0;34m\u001b[0m\u001b[0m\n\u001b[0m",
      "\u001b[0;32m<ipython-input-46-7508b20e6e63>\u001b[0m in \u001b[0;36mnext_batch\u001b[0;34m(self, batch_size)\u001b[0m\n\u001b[1;32m     87\u001b[0m         \u001b[0mbatch_x\u001b[0m \u001b[0;34m=\u001b[0m \u001b[0mself\u001b[0m\u001b[0;34m.\u001b[0m\u001b[0mx\u001b[0m\u001b[0;34m[\u001b[0m \u001b[0mbatch_indices\u001b[0m \u001b[0;34m]\u001b[0m\u001b[0;34m\u001b[0m\u001b[0m\n\u001b[1;32m     88\u001b[0m         \u001b[0mbatch_y\u001b[0m \u001b[0;34m=\u001b[0m \u001b[0mself\u001b[0m\u001b[0;34m.\u001b[0m\u001b[0my\u001b[0m\u001b[0;34m[\u001b[0m \u001b[0mbatch_indices\u001b[0m \u001b[0;34m]\u001b[0m\u001b[0;34m\u001b[0m\u001b[0m\n\u001b[0;32m---> 89\u001b[0;31m         \u001b[0mbatch_id\u001b[0m \u001b[0;34m=\u001b[0m \u001b[0mself\u001b[0m\u001b[0;34m.\u001b[0m\u001b[0mid\u001b[0m\u001b[0;34m[\u001b[0m \u001b[0mbatch_indices\u001b[0m \u001b[0;34m]\u001b[0m\u001b[0;34m\u001b[0m\u001b[0m\n\u001b[0m\u001b[1;32m     90\u001b[0m \u001b[0;34m\u001b[0m\u001b[0m\n\u001b[1;32m     91\u001b[0m         \u001b[0;32mif\u001b[0m \u001b[0mend_index\u001b[0m \u001b[0;34m==\u001b[0m \u001b[0mself\u001b[0m\u001b[0;34m.\u001b[0m\u001b[0mnum_examples\u001b[0m\u001b[0;34m:\u001b[0m\u001b[0;34m\u001b[0m\u001b[0m\n",
      "\u001b[0;31mAttributeError\u001b[0m: 'reader' object has no attribute 'id'"
     ]
    }
   ],
   "source": [
    "class reader(object):                           # class를 선언할 때 object를 상속받는다. (convention)\n",
    "    def __init__(self, data_file=\"./data/train.csv\"):\n",
    "        self.value = []\n",
    "        with open(data_file, \"rb\") as f:        # binary 모드 안 되면 \"r\"로 해라\n",
    "            csv_reader = csv.reader(f, delimiter=\",\")\n",
    "            \n",
    "            for i, row in enumerate(csv_reader):\n",
    "                if i == 0:\n",
    "                    self.attribute = row         # Q. attribute는 코드에서 안 보이는데 class reader의 함수인지?\n",
    "                    continue\n",
    "                \n",
    "                self.value.append(row)\n",
    "        \n",
    "        self.raw_to_vector(self.value)\n",
    "        \n",
    "        # self.x.shape = (n, 6)              # Pclass:[2], Sex:[4], Age:[5], SibSp:[6], Parch:[7], fare:[9]\n",
    "        # self.y.shape = (n)                 # Survived:[1]\n",
    "        # self.id.shape = (n)\n",
    "        \n",
    "        self.num_examples = len(self.x) # n = 891 (train_data)\n",
    "        self.start_index = 0\n",
    "        self.shuffle_indices = range(self.num_examples)\n",
    "\n",
    "        \n",
    "    def raw_to_vector(self, value):\n",
    "        self.x = []\n",
    "        self.y = []\n",
    "        self.id_ = []\n",
    "        \n",
    "        for row in self.value:\n",
    "            x = np.zeros(6)\n",
    "            \n",
    "            x[0] = float(row[2])\n",
    "            \n",
    "#             if row[4] == \"male\":\n",
    "#                 x[1] = 0\n",
    "#             else:\n",
    "#                 x[1] = 1\n",
    "            \n",
    "            x[1] = 0 if row[4] == \"male\" else 1     # male : 0, female : 1\n",
    "            x[2] = float(row[5]) if row[5] else 30  # 나이가 없는 데이터에는 30세로 넣는다 (prior).\n",
    "            x[3] = float(row[6])\n",
    "            x[4] = float(row[7])\n",
    "            x[5] = float(row[9]) \n",
    "            \n",
    "            y = np.zeros(1)\n",
    "            y[0] = int(row[1])\n",
    "            \n",
    "            id_ = np.zeros(1)\n",
    "            id_[0] = float(row[0])\n",
    "        \n",
    "            self.x.append(x)\n",
    "            self.y.append(y)\n",
    "            self.id_.append(id_)\n",
    "        \n",
    "        self.x = np.array(self.x)\n",
    "        self.y = np.array(self.y)\n",
    "        self.id_ = np.array(self.id_)\n",
    "        \n",
    "        # print self.x.shape, self.y.shape, self.id_.shape\n",
    "        \n",
    "    \n",
    "#     def next_batch(self, batch_size):\n",
    "        \n",
    "#         x_batch = []\n",
    "#         y_batch = []\n",
    "#         id_batch = []\n",
    "        \n",
    "#         np.random.shuffle(self.x)\n",
    "#         np.random.shuffle(self.y)\n",
    "#         np.random.shuffle(self.id_)\n",
    "        \n",
    "#         for i in range(batch_size):\n",
    "#             x_batch.append(self.x[i])\n",
    "#             y_batch.append(self.y[i])\n",
    "#             id_batch.append(self.id_[i])\n",
    "    \n",
    "#         return x_batch, y_batch, id_batch\n",
    "\n",
    "    def next_batch(self, batch_size):\n",
    "        if self.start_index == 0:\n",
    "          np.random.shuffle(self.shuffle_indices) # shuffle indices\n",
    "\n",
    "        end_index = min([self.num_examples, self.start_index + batch_size])\n",
    "        batch_indices = [ self.shuffle_indices[idx] for idx in range(self.start_index, end_index) ]\n",
    "\n",
    "        batch_x = self.x[ batch_indices ]\n",
    "        batch_y = self.y[ batch_indices ]\n",
    "        batch_id = self.id[ batch_indices ] \n",
    "\n",
    "        if end_index == self.num_examples:\n",
    "          self.start_index = 0\n",
    "        else: self.start_index = end_index\n",
    "\n",
    "        return batch_x, batch_y, batch_id_ \n",
    "    \n",
    "    \n",
    "c = reader()\n",
    "c.next_batch(6)"
   ]
  },
  {
   "cell_type": "code",
   "execution_count": null,
   "metadata": {
    "collapsed": true
   },
   "outputs": [],
   "source": []
  }
 ],
 "metadata": {
  "kernelspec": {
   "display_name": "Python 2",
   "language": "python",
   "name": "python2"
  },
  "language_info": {
   "codemirror_mode": {
    "name": "ipython",
    "version": 2
   },
   "file_extension": ".py",
   "mimetype": "text/x-python",
   "name": "python",
   "nbconvert_exporter": "python",
   "pygments_lexer": "ipython2",
   "version": "2.7.13"
  }
 },
 "nbformat": 4,
 "nbformat_minor": 2
}
