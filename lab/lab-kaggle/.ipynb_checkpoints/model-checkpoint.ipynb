{
 "cells": [
  {
   "cell_type": "code",
   "execution_count": 4,
   "metadata": {
    "collapsed": true
   },
   "outputs": [],
   "source": [
    "# -*- coding: utf-8 -*-\n",
    "\n",
    "import numpy as np\n",
    "\n",
    "class dnn(object):\n",
    "    def __init__(self):\n",
    "        \n",
    "        self.x = tf.placeholder(dtype=tf.float32, shape=[None, 6])\n",
    "        self.y = tf.placeholder(dtype=tf.float32, shape=[None])\n",
    "        \n",
    "        self.w1 = tf.get_variable(name='w1', shape=[6, 50])\n",
    "        self.b1 = tf.get_variable(name='b1', shape=[50])\n",
    "        \n",
    "        self.w2 = tf.get_variable(name='w2', shape=[50, 50])\n",
    "        self.b2 = tf.get_variable(name='b2', shape=[50])\n",
    "        \n",
    "        self.w3 = tf.get_variable(name='w3', shape=[50, 1])\n",
    "        self.b3 = tf.get_variable(name='b3', shape=[2])\n",
    "        \n",
    "        self.build_graph()\n",
    "        \n",
    "    def build_graph(self):\n",
    "        \n",
    "        h1 = tf.matmul(self.x, self.w1) + self.b1\n",
    "        h1 = tf.nn.relu(h1)\n",
    "        \n",
    "        h2 = tf.matmul(h1, self.w2) + self.b2\n",
    "        h2 = tf.nn.relu(h2)\n",
    "        \n",
    "        h3 = tf.matmul(h2, self.w3) + self.b3\n",
    "        h3 = tf.nn.softmax(h3)\n",
    "        \n",
    "        prediction = h3\n",
    "        \n",
    "        y_onehot = tf.one_hot(indices=self.y, depth=2, on_value=1.0, off_value=0.0)   # depth = y의 label 종류 \n",
    "        self.loss = tf.reduce_mean(tf.pow(prediction - y_onehot, 2))\n",
    "        \n",
    "        optimzer = tf.train.GradientDescentOptimizer(learning_rate=0.1)\n",
    "        self.train_op = optimzer.minimize(self.loss)\n",
    "        \n",
    "        \n",
    "        \n",
    "        \n",
    "        "
   ]
  },
  {
   "cell_type": "code",
   "execution_count": null,
   "metadata": {
    "collapsed": true
   },
   "outputs": [],
   "source": []
  }
 ],
 "metadata": {
  "kernelspec": {
   "display_name": "Python 2",
   "language": "python",
   "name": "python2"
  },
  "language_info": {
   "codemirror_mode": {
    "name": "ipython",
    "version": 2
   },
   "file_extension": ".py",
   "mimetype": "text/x-python",
   "name": "python",
   "nbconvert_exporter": "python",
   "pygments_lexer": "ipython2",
   "version": "2.7.13"
  }
 },
 "nbformat": 4,
 "nbformat_minor": 2
}
