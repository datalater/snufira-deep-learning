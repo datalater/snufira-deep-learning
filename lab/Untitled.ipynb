{
 "cells": [
  {
   "cell_type": "code",
   "execution_count": 1,
   "metadata": {
    "collapsed": true
   },
   "outputs": [],
   "source": [
    "import tensorflow as tf"
   ]
  },
  {
   "cell_type": "code",
   "execution_count": 3,
   "metadata": {},
   "outputs": [],
   "source": [
    "a = tf.constant(1)\n",
    "b = tf.constant(2)\n",
    "\n",
    "c = tf.add(a, b)\n",
    "\n",
    "sess = tf.Session()"
   ]
  },
  {
   "cell_type": "code",
   "execution_count": 5,
   "metadata": {},
   "outputs": [
    {
     "name": "stdout",
     "output_type": "stream",
     "text": [
      "3\n"
     ]
    }
   ],
   "source": [
    "print(sess.run(c))"
   ]
  },
  {
   "cell_type": "code",
   "execution_count": 6,
   "metadata": {},
   "outputs": [
    {
     "name": "stdout",
     "output_type": "stream",
     "text": [
      "(<tf.Tensor 'Const_2:0' shape=() dtype=int32>, <tf.Tensor 'Const_3:0' shape=() dtype=int32>, <tf.Tensor 'Add_1:0' shape=() dtype=int32>, <tensorflow.python.client.session.Session object at 0x7ff6d6940890>)\n"
     ]
    }
   ],
   "source": [
    "print(a,b,c,sess)"
   ]
  },
  {
   "cell_type": "code",
   "execution_count": 7,
   "metadata": {},
   "outputs": [
    {
     "name": "stdout",
     "output_type": "stream",
     "text": [
      "3\n"
     ]
    }
   ],
   "source": [
    "print(sess.run(c))"
   ]
  },
  {
   "cell_type": "code",
   "execution_count": 18,
   "metadata": {},
   "outputs": [],
   "source": [
    "a = tf.constant(1.0, dtype=tf.float32)\n",
    "b = tf.constant(1.0, shape=[3,4])\n",
    "c = tf.constant(1.0, shape=[3,4,5])"
   ]
  },
  {
   "cell_type": "code",
   "execution_count": 19,
   "metadata": {},
   "outputs": [
    {
     "name": "stdout",
     "output_type": "stream",
     "text": [
      "Tensor(\"Const_10:0\", shape=(3, 4, 5), dtype=float32)\n"
     ]
    }
   ],
   "source": [
    "print(c)"
   ]
  },
  {
   "cell_type": "code",
   "execution_count": 20,
   "metadata": {},
   "outputs": [
    {
     "name": "stdout",
     "output_type": "stream",
     "text": [
      "3.0\n",
      "6.0\n"
     ]
    }
   ],
   "source": [
    "a = tf.placeholder(dtype=tf.float32)\n",
    "b = tf.placeholder(dtype=tf.float32)\n",
    "c = a+b\n",
    "\n",
    "with tf.Session () as sess:\n",
    "    feed = {a:1, b:2}\n",
    "    print(sess.run(c, feed_dict=feed))\n",
    "    feed = {a:2, b:4}\n",
    "    print(sess.run(c, feed_dict=feed))"
   ]
  },
  {
   "cell_type": "code",
   "execution_count": 27,
   "metadata": {},
   "outputs": [
    {
     "name": "stdout",
     "output_type": "stream",
     "text": [
      "[ 3.]\n",
      "(<tf.Tensor 'Placeholder_14:0' shape=(1,) dtype=float32>, <tf.Tensor 'Placeholder_15:0' shape=(1,) dtype=float32>)\n"
     ]
    }
   ],
   "source": [
    "a = tf.placeholder(dtype=tf.float32, shape=[1])\n",
    "b = tf.placeholder(dtype=tf.float32, shape=[1])\n",
    "c = a+b\n",
    "\n",
    "sess = tf.Session()\n",
    "\n",
    "\n",
    "feed = {a:[1], b:[2]}\n",
    "print(sess.run(c, feed_dict=feed))\n",
    "\n",
    "\n",
    "print(a,b)"
   ]
  },
  {
   "cell_type": "code",
   "execution_count": 28,
   "metadata": {},
   "outputs": [
    {
     "name": "stdout",
     "output_type": "stream",
     "text": [
      "3.0\n",
      "(<tf.Tensor 'Placeholder_16:0' shape=() dtype=float32>, <tf.Tensor 'Placeholder_17:0' shape=() dtype=float32>)\n"
     ]
    }
   ],
   "source": [
    "a = tf.placeholder(dtype=tf.float32, shape=[])\n",
    "b = tf.placeholder(dtype=tf.float32, shape=[])\n",
    "c = a+b\n",
    "\n",
    "sess = tf.Session()\n",
    "\n",
    "\n",
    "feed = {a:1, b:2}\n",
    "print(sess.run(c, feed_dict=feed))\n",
    "\n",
    "\n",
    "print(a,b)"
   ]
  },
  {
   "cell_type": "code",
   "execution_count": null,
   "metadata": {
    "collapsed": true
   },
   "outputs": [],
   "source": []
  }
 ],
 "metadata": {
  "kernelspec": {
   "display_name": "Python 2",
   "language": "python",
   "name": "python2"
  },
  "language_info": {
   "codemirror_mode": {
    "name": "ipython",
    "version": 2
   },
   "file_extension": ".py",
   "mimetype": "text/x-python",
   "name": "python",
   "nbconvert_exporter": "python",
   "pygments_lexer": "ipython2",
   "version": "2.7.12"
  }
 },
 "nbformat": 4,
 "nbformat_minor": 2
}
