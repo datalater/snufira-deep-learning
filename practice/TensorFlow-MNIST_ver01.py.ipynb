{
 "cells": [
  {
   "cell_type": "markdown",
   "metadata": {},
   "source": [
    "## MNIST 복습"
   ]
  },
  {
   "cell_type": "code",
   "execution_count": 34,
   "metadata": {},
   "outputs": [
    {
     "name": "stdout",
     "output_type": "stream",
     "text": [
      "Extracting ./data/train-images-idx3-ubyte.gz\n",
      "Extracting ./data/train-labels-idx1-ubyte.gz\n",
      "Extracting ./data/t10k-images-idx3-ubyte.gz\n",
      "Extracting ./data/t10k-labels-idx1-ubyte.gz\n"
     ]
    }
   ],
   "source": [
    "import numpy as np\n",
    "import tensorflow as tf\n",
    "from tensorflow.examples.tutorials.mnist import input_data\n",
    "mnist = input_data.read_data_sets(\"./data\", one_hot=True)"
   ]
  },
  {
   "cell_type": "markdown",
   "metadata": {},
   "source": [
    "#### 0. 데이터의 차원을 계산한다\n",
    "+ input 데이터 : 784 차원\n",
    "+ prediction : 10 차원"
   ]
  },
  {
   "cell_type": "markdown",
   "metadata": {},
   "source": [
    "#### 1. 모델을 세운다 \n",
    "\n",
    "+ `logit = wx + b` \n",
    "+ `prediction = softmax(logit)`\n",
    "\n",
    "---\n",
    "\n",
    "+ 코드1. 모델의 parameter를 Variable로 선언한다.\n",
    "+ 코드2. 모델에 input 데이터를 넣기 위해 placeholder로 선언한다.\n",
    "+ 코드3. 모델에 parameter와 input 데이터를 넣어서 parameter가 input 데이터의 정보를 갖고 있게 한 후, 모델의 prediction의 값을 확률 값으로 바꾼다."
   ]
  },
  {
   "cell_type": "code",
   "execution_count": 35,
   "metadata": {},
   "outputs": [],
   "source": [
    "model_inputs = tf.placeholder(tf.float32, shape = [None, 784])\n",
    "labels = tf.placeholder(tf.float32, shape = [None, 10])"
   ]
  },
  {
   "cell_type": "code",
   "execution_count": 36,
   "metadata": {},
   "outputs": [],
   "source": [
    "w = tf.Variable(tf.random_normal(shape = [784, 10]))\n",
    "b = tf.Variable(tf.random_normal(shape = [10]))"
   ]
  },
  {
   "cell_type": "code",
   "execution_count": 37,
   "metadata": {},
   "outputs": [],
   "source": [
    "logits = tf.matmul(model_inputs, w) + b\n",
    "predictions = tf.nn.softmax(logits)"
   ]
  },
  {
   "cell_type": "markdown",
   "metadata": {},
   "source": [
    "#### 2. 모델의 cost를 계산한 후 minimize 한다\n",
    "\n",
    "+ 코드4. 모델의 prediction(=`logits`)과 true label(=`onehot_labels`) 사이의 loss를 cross entropy로 구한다.\n",
    "+ 코드5. optimzer 알고리즘을 사용해서 cost를 minimize 한다."
   ]
  },
  {
   "cell_type": "code",
   "execution_count": 38,
   "metadata": {
    "collapsed": true
   },
   "outputs": [],
   "source": [
    "loss = tf.losses.softmax_cross_entropy(onehot_labels = labels, logits = predictions)"
   ]
  },
  {
   "cell_type": "code",
   "execution_count": 39,
   "metadata": {},
   "outputs": [],
   "source": [
    "optimizer = tf.train.GradientDescentOptimizer(learning_rate = 0.01)\n",
    "train_op = optimizer.minimize(loss)"
   ]
  },
  {
   "cell_type": "markdown",
   "metadata": {},
   "source": [
    "#### 3. 모델의 accurracy를 정의하기 위해 onehot label과 prediction을 비교한다\n",
    "\n",
    "+ 코드6. predictions 벡터와 labels 벡터를 대상으로 각 row마다 값이 가장 큰 column의 index를 구한다.\n",
    "+ 코드7. 구한 index의 값들이 서로 같은지 boolean으로 비교한다.\n",
    "+ 코드8. 숫자로 표현된 boolean 벡터의 평균을 계산하여 accuracy를 구한다."
   ]
  },
  {
   "cell_type": "code",
   "execution_count": 40,
   "metadata": {
    "collapsed": true
   },
   "outputs": [],
   "source": [
    "dense_predictions = tf.argmax(predictions, axis=1)\n",
    "dense_labels = tf.argmax(labels, axis=1)\n",
    "equals = tf.cast(tf.equal(dense_predictions, dense_labels), tf.float32)\n",
    "accuracy = tf.reduce_mean(equals)"
   ]
  },
  {
   "cell_type": "markdown",
   "metadata": {},
   "source": [
    "#### 4. 모델을 Train 한다\n",
    "\n",
    "+ 코드9. train_step을 정의한다.\n",
    "+ 코드10. Session()을 with 절로 선언하고 Variable을 초기화하여 run 한다.\n",
    "+ 코드11. train_step 만큼 반복문을 선언하고 batch 단위로 input 데이터와 label을 가져온다.\n",
    "+ 코드12. feed를 정의한 다음, `sess.run()`에 fetch할 tensor를 첫 번째 인자로 넣고 두 번째 인자로 feed를 넣는다."
   ]
  },
  {
   "cell_type": "code",
   "execution_count": 44,
   "metadata": {},
   "outputs": [
    {
     "name": "stdout",
     "output_type": "stream",
     "text": [
      "step 0 | loss : 2.38982272148\n",
      "step 250 | loss : 2.37179756165\n",
      "step 500 | loss : 2.35154795647\n",
      "step 750 | loss : 2.34623622894\n",
      "step 1000 | loss : 2.30899333954\n",
      "step 1250 | loss : 2.29226899147\n",
      "step 1500 | loss : 2.34906244278\n",
      "step 1750 | loss : 2.31903839111\n",
      "step 2000 | loss : 2.28943872452\n",
      "step 2250 | loss : 2.30061483383\n",
      "step 2500 | loss : 2.27534937859\n",
      "step 2750 | loss : 2.23019981384\n",
      "step 3000 | loss : 2.29151558876\n",
      "step 3250 | loss : 2.18313837051\n",
      "step 3500 | loss : 2.19323158264\n",
      "step 3750 | loss : 2.2722222805\n",
      "step 4000 | loss : 2.28045082092\n",
      "step 4250 | loss : 2.25018239021\n",
      "step 4500 | loss : 2.29870200157\n",
      "step 4750 | loss : 2.18410277367\n",
      "step 5000 | loss : 2.26353144646\n",
      "step 5250 | loss : 2.30239200592\n",
      "step 5500 | loss : 2.23109507561\n",
      "step 5750 | loss : 2.27159786224\n",
      "step 6000 | loss : 2.22540068626\n",
      "step 6250 | loss : 2.32631325722\n",
      "step 6500 | loss : 2.20643162727\n",
      "step 6750 | loss : 2.22887992859\n",
      "step 7000 | loss : 2.2393283844\n",
      "step 7250 | loss : 2.19100475311\n",
      "step 7500 | loss : 2.19895362854\n",
      "step 7750 | loss : 2.1891951561\n",
      "step 8000 | loss : 2.18566465378\n",
      "step 8250 | loss : 2.19664692879\n",
      "step 8500 | loss : 2.20113182068\n",
      "step 8750 | loss : 2.17923331261\n",
      "step 9000 | loss : 2.21763539314\n",
      "step 9250 | loss : 2.23365044594\n",
      "step 9500 | loss : 2.21051430702\n",
      "step 9750 | loss : 2.1303229332\n"
     ]
    }
   ],
   "source": [
    "train_step = 10000\n",
    "\n",
    "with tf.Session() as sess:\n",
    "    sess.run(tf.global_variables_initializer())\n",
    "    \n",
    "    for step in range(train_step):\n",
    "        batch_inputs, batch_labels = mnist.train.next_batch(100)\n",
    "        images_val, labels_val = mnist.validation.next_batch(100)\n",
    "        feed = {model_inputs : batch_inputs, labels : batch_labels}\n",
    "        _, loss_val = sess.run([train_op, loss], feed_dict=feed)\n",
    "        # loss_val = sess.run(loss, feed_dict=feed)\n",
    "        \n",
    "        if step % 250 == 0:\n",
    "            print (\"step {} | loss : {}\".format(step, loss_val))\n",
    "    \n",
    "        # feed = {model_inputs : images_val, labels : labels_val}\n",
    "        # accuracy = sess.run(accuracy, feed_dict=feed)\n",
    "        # print (\"acc : {}\".format(accuracy))"
   ]
  },
  {
   "cell_type": "code",
   "execution_count": null,
   "metadata": {
    "collapsed": true
   },
   "outputs": [],
   "source": []
  }
 ],
 "metadata": {
  "kernelspec": {
   "display_name": "Python 2",
   "language": "python",
   "name": "python2"
  },
  "language_info": {
   "codemirror_mode": {
    "name": "ipython",
    "version": 2
   },
   "file_extension": ".py",
   "mimetype": "text/x-python",
   "name": "python",
   "nbconvert_exporter": "python",
   "pygments_lexer": "ipython2",
   "version": "2.7.12"
  }
 },
 "nbformat": 4,
 "nbformat_minor": 2
}
