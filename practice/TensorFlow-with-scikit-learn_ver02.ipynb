{
 "cells": [
  {
   "cell_type": "markdown",
   "metadata": {},
   "source": [
    "#### 0. 데이터를 가져온다\n",
    "\n",
    "+ 코드0-1. dataset을 load 한다.\n",
    "+ 코드0-2. dataset의 data와 target shape를 출력해본다.\n",
    "+ 코드0-3. 2번째 feature만 사용해서 input 데이터를 구성하고, label은 전체 target 데이터 모두를 사용한다.\n",
    "+ 코드0-4. input 데이터와 label 데이터는 각각 전체 데이터에서 -20번째까지 train으로, 나머지는 test로 구성한다."
   ]
  },
  {
   "cell_type": "code",
   "execution_count": 1,
   "metadata": {},
   "outputs": [
    {
     "name": "stdout",
     "output_type": "stream",
     "text": [
      "(442, 10)\n",
      "(442,)\n"
     ]
    }
   ],
   "source": [
    "#################\n",
    "### Perceptron for linear regression\n",
    "#################\n",
    "import numpy as np\n",
    "from sklearn import datasets\n",
    "import matplotlib.pyplot as plt\n",
    "import tensorflow as tf\n",
    "import math\n",
    "\n",
    "# Load the diabetes dataset\n",
    "diabetes = datasets.load_diabetes()\n",
    "\n",
    "# diabetes has two attributes: data, target\n",
    "print(diabetes.data.shape)\n",
    "print(diabetes.target.shape)\n",
    "\n",
    "# diabetes consists of 442 samples\n",
    "#with 10 attributes and 1 real target value.\n",
    "\n",
    "# Use only one feature\n",
    "diabetes_X = diabetes.data[:, 2]\n",
    "\n",
    "# Split the data into training/testing sets\n",
    "diabetes_X_train = diabetes_X[:-20]\n",
    "diabetes_X_test = diabetes_X[-20:]\n",
    "\n",
    "# Split the targets into training/testing sets\n",
    "diabetes_y_train = diabetes.target[:-20]\n",
    "diabetes_y_test = diabetes.target[-20:]"
   ]
  },
  {
   "cell_type": "markdown",
   "metadata": {},
   "source": [
    "#### 1. 모델을 세운다\n",
    "\n",
    "+ 모델\n",
    "    + `h = wx + b`\n",
    "+ 코드1. 모델에 input 데이터를 넣기 위해 placeholder로 선언한다.\n",
    "  + input 데이터 x의 column은 몇 개 필요한가?\n",
    "  + input 데이터 y의 column은 몇 개 필요한가?\n",
    "+ 코드2. 모델의 parameter를 Variable로 선언한다. 초기값은 0으로 넣는다.\n",
    "  + parameter w와 b의 column은 몇 개 필요한가?\n",
    "  + `v_weight`\n",
    "  + `v_bias`\n",
    "+ 코드3. 모델의 방정식을 세운다. (using `tf.add` and `tf.multiply`)\n",
    "  + `y_h`"
   ]
  },
  {
   "cell_type": "code",
   "execution_count": 13,
   "metadata": {},
   "outputs": [],
   "source": [
    "x = tf.placeholder(dtype=tf.float32, shape=None, name=\"input-x\")\n",
    "y = tf.placeholder(dtype=tf.float32, shape=None, name=\"input-y\")\n",
    "\n",
    "v_weight = tf.Variable(0, dtype=tf.float32, name=\"W\")\n",
    "v_bias = tf.Variable(0, dtype=tf.float32, name=\"w0\")\n",
    "\n",
    "y_h = tf.add( tf.multiply(v_weight,x), v_bias)"
   ]
  },
  {
   "cell_type": "markdown",
   "metadata": {},
   "source": [
    "#### 2. 모델의 loss를 계산한 후 minimize 한다\n",
    "\n",
    "+ 코드4. loss를 `tf.reduce_sum`을 이용해서 최소제곱법으로 구한다. `loss = 1/2 * 1/N(sigma (f(x)-y)^2)`\n",
    "  + `n_samples`\n",
    "  + `loss`\n",
    "+ 코드5. optimzer 알고리즘을 gradient descent로 사용하고 loss를 minimize 한다.\n",
    "  + `learning_rate`\n",
    "  + `train_step`"
   ]
  },
  {
   "cell_type": "code",
   "execution_count": 18,
   "metadata": {
    "collapsed": true
   },
   "outputs": [],
   "source": [
    "n_samples = tf.cast(tf.size(x), tf.float32)\n",
    "loss = tf.reduce_sum(tf.pow(y_h-y, 2))/(n_samples * 2)"
   ]
  },
  {
   "cell_type": "code",
   "execution_count": 19,
   "metadata": {
    "collapsed": true
   },
   "outputs": [],
   "source": [
    "learning_rate = 0.1\n",
    "train_step = tf.train.GradientDescentOptimizer(learning_rate).minimize(loss)"
   ]
  },
  {
   "cell_type": "markdown",
   "metadata": {},
   "source": [
    "#### 3. 모델을 Train 한다\n",
    "\n",
    "+ 코드6. Session()을 with 절로 선언하고 Variable을 initialize하여 `sess.run` 한다.\n",
    "+ 코드7. train 반복 횟수를 정의한다.\n",
    "  + `max_iter`\n",
    "+ 코드8. train 반복 횟수만큼 반복문을 선언한다.\n",
    "+ 코드9. w, b, y_h, loss의 value를 `sess.run()`으로 출력한다. fetch할 tensor를 첫 번째 인자로 넣고 두 번째 인자로 feed를 넣는다.\n",
    "  + `_`\n",
    "  + `v_w_val`\n",
    "  + `v_b_val`\n",
    "  + `y_h_val`\n",
    "  + `loss_val`\n",
    "+ 코드10. 1000번째 step마다 'Epoch'을 step 값으로, 'Loss'를 `loss_val`로 출력한다.\n",
    "  + parameter를 update하는 한 단위를 Epoch이라고 한다.\n",
    "+ 코드11. train이 끝난 이후에 paramter w를 `Coefficients`로 출력하고, 최종 모델의 \"Mean squared error\"를 `loss_val`로 출력한다.\n",
    "+ 코드12. test 데이터를 black으로 scatter 한다.\n",
    "+ 코드13. test 데이터에 대한 prediction을 하기 위해 feed와 출력할 tensor를 구성하고 `sess.run()`으로 구한다.\n",
    "+ 코드14. test 데이터 x와 prediction을 파란색 line으로 plot한다.\n",
    "+ 코드15. plot을 출력한다.\n",
    "  + `plt.show()`"
   ]
  },
  {
   "cell_type": "code",
   "execution_count": 21,
   "metadata": {},
   "outputs": [
    {
     "name": "stdout",
     "output_type": "stream",
     "text": [
      "('Epoch', 0)\n",
      "('Loss', 14734.323)\n",
      "('Epoch', 1000)\n",
      "('Loss', 2611.0925)\n",
      "('Epoch', 2000)\n",
      "('Loss', 2380.2966)\n",
      "('Epoch', 3000)\n",
      "('Loss', 2233.574)\n",
      "('Epoch', 4000)\n",
      "('Loss', 2140.2976)\n",
      "('Epoch', 5000)\n",
      "('Loss', 2080.9988)\n",
      "('Epoch', 6000)\n",
      "('Loss', 2043.3009)\n",
      "('Epoch', 7000)\n",
      "('Loss', 2019.3347)\n",
      "('Epoch', 8000)\n",
      "('Loss', 2004.0992)\n",
      "('Epoch', 9000)\n",
      "('Loss', 1994.4133)\n",
      "('Coefficients:', 840.81946)\n",
      "('MSE:', 1988.261)\n"
     ]
    },
    {
     "data": {
      "image/png": "[encoded data removed]",
      "text/plain": [
       "<matplotlib.figure.Figure at 0x7f8450438ed0>"
      ]
     },
     "metadata": {},
     "output_type": "display_data"
    }
   ],
   "source": [
    "with tf.Session() as sess:\n",
    "    \n",
    "    init = tf.global_variables_initializer()\n",
    "    sess.run(init)\n",
    "    \n",
    "    max_iter = 10000\n",
    "    \n",
    "    for i in range(max_iter):\n",
    "        \n",
    "        _, v_w_val, v_b_val, y_h_val, loss_val = sess.run([train_step, v_weight, v_bias, y_h, loss],\n",
    "                                                          feed_dict={x: diabetes_X_train, y: diabetes_y_train})\n",
    "        \n",
    "        if i % 1000 == 0:\n",
    "            print ('Epoch', i)\n",
    "            print ('Loss', loss_val)\n",
    "            \n",
    "    print('Coefficients:', v_w_val)\n",
    "    print(\"MSE:\", loss_val)\n",
    "    \n",
    "    plt.scatter(diabetes_X_test, diabetes_y_test, color='black')\n",
    "    test_pred = sess.run(y_h, feed_dict = {x: diabetes_X_test, y: diabetes_y_test})\n",
    "    plt.plot(diabetes_X_test,test_pred, color='blue')\n",
    "    plt.show()"
   ]
  },
  {
   "cell_type": "code",
   "execution_count": null,
   "metadata": {
    "collapsed": true
   },
   "outputs": [],
   "source": []
  }
 ],
 "metadata": {
  "kernelspec": {
   "display_name": "Python 2",
   "language": "python",
   "name": "python2"
  },
  "language_info": {
   "codemirror_mode": {
    "name": "ipython",
    "version": 2
   },
   "file_extension": ".py",
   "mimetype": "text/x-python",
   "name": "python",
   "nbconvert_exporter": "python",
   "pygments_lexer": "ipython2",
   "version": "2.7.12"
  }
 },
 "nbformat": 4,
 "nbformat_minor": 2
}
