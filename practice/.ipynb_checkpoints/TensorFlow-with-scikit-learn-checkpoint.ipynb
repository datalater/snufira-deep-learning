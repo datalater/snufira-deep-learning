{
 "cells": [
  {
   "cell_type": "code",
   "execution_count": 1,
   "metadata": {
    "collapsed": true
   },
   "outputs": [],
   "source": [
    "import numpy as np\n",
    "from sklearn import datasets\n",
    "import matplotlib.pyplot as plt\n",
    "import tensorflow as tf\n",
    "import math\n",
    "\n",
    "%matplotlib inline"
   ]
  },
  {
   "cell_type": "markdown",
   "metadata": {},
   "source": [
    "#### 0. 데이터를 가져온다.\n",
    "\n",
    "+ 코드0-1. dataset을 load 한다.\n",
    "+ 코드0-2. dataset의 data와 target shape를 출력해본다.\n",
    "+ 코드0-3. 3번째 feature만 사용해서 input 데이터를 구성하고, label은 전체 target 데이터 모두를 사용한다.\n",
    "+ 코드0-4. input 데이터와 label 데이터는 각각 전체 데이터에서 -20번째까지 train으로, 나머지는 test로 구성한다."
   ]
  },
  {
   "cell_type": "code",
   "execution_count": 2,
   "metadata": {},
   "outputs": [
    {
     "name": "stdout",
     "output_type": "stream",
     "text": [
      "(442, 10) (442,)\n"
     ]
    }
   ],
   "source": [
    "diabetes = datasets.load_diabetes()\n",
    "\n",
    "print diabetes.data.shape, diabetes.target.shape"
   ]
  },
  {
   "cell_type": "code",
   "execution_count": 13,
   "metadata": {},
   "outputs": [],
   "source": [
    "x_data = diabetes.data[:,2]\n",
    "y_data = diabetes.target\n",
    "\n",
    "x_train = x_data[:-20]\n",
    "x_test = x_data[-20:]\n",
    "\n",
    "y_train = y_data[:-20]\n",
    "y_test = y_data[-20:]"
   ]
  },
  {
   "cell_type": "markdown",
   "metadata": {},
   "source": [
    "#### 1. 모델을 세운다\n",
    "\n",
    "+ 모델\n",
    "  + `logit = wx + b`\n",
    "  + `prediction = softmax(logit)`\n",
    "\n",
    "+ 코드1. 모델에 input 데이터를 넣기 위해 placeholder로 선언한다.\n",
    "+ 코드2. 모델의 parameter를 Variable로 선언한다.\n",
    "+ 코드3. 모델에 parameter와 input 데이터를 넣어서 parameter가 input 데이터의 정보를 갖고 있게 한 후, 모델의 prediction의 값을 확률 값으로 바꾼다."
   ]
  },
  {
   "cell_type": "code",
   "execution_count": 14,
   "metadata": {
    "collapsed": true
   },
   "outputs": [],
   "source": [
    "x = tf.placeholder(tf.float32, shape=None, name='x-input')\n",
    "y = tf.placeholder(tf.float32, shape=None, name='y-input')"
   ]
  },
  {
   "cell_type": "code",
   "execution_count": null,
   "metadata": {
    "collapsed": true
   },
   "outputs": [],
   "source": []
  }
 ],
 "metadata": {
  "kernelspec": {
   "display_name": "Python 2",
   "language": "python",
   "name": "python2"
  },
  "language_info": {
   "codemirror_mode": {
    "name": "ipython",
    "version": 2
   },
   "file_extension": ".py",
   "mimetype": "text/x-python",
   "name": "python",
   "nbconvert_exporter": "python",
   "pygments_lexer": "ipython2",
   "version": "2.7.12"
  }
 },
 "nbformat": 4,
 "nbformat_minor": 2
}
