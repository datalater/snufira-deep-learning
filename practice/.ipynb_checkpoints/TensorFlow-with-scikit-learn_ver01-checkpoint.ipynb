{
 "cells": [
  {
   "cell_type": "code",
   "execution_count": 15,
   "metadata": {
    "collapsed": true
   },
   "outputs": [],
   "source": [
    "import numpy as np\n",
    "from sklearn import datasets\n",
    "import matplotlib.pyplot as plt\n",
    "import tensorflow as tf\n",
    "import math\n",
    "\n",
    "%matplotlib inline"
   ]
  },
  {
   "cell_type": "markdown",
   "metadata": {},
   "source": [
    "#### 0. 데이터를 가져온다.\n",
    "\n",
    "+ 코드0-1. dataset을 load 한다.\n",
    "+ 코드0-2. dataset의 data와 target shape를 출력해본다.\n",
    "+ 코드0-3. 2번째 feature만 사용해서 input 데이터를 구성하고, label은 전체 target 데이터 모두를 사용한다.\n",
    "+ 코드0-4. input 데이터와 label 데이터는 각각 전체 데이터에서 -20번째까지 train으로, 나머지는 test로 구성한다."
   ]
  },
  {
   "cell_type": "code",
   "execution_count": 16,
   "metadata": {},
   "outputs": [
    {
     "name": "stdout",
     "output_type": "stream",
     "text": [
      "(442, 10) (442,)\n"
     ]
    }
   ],
   "source": [
    "diabetes = datasets.load_diabetes()\n",
    "\n",
    "print diabetes.data.shape, diabetes.target.shape"
   ]
  },
  {
   "cell_type": "code",
   "execution_count": 31,
   "metadata": {},
   "outputs": [
    {
     "name": "stdout",
     "output_type": "stream",
     "text": [
      "(422,)\n",
      "(422,)\n"
     ]
    }
   ],
   "source": [
    "x_data = diabetes.data[:,2]\n",
    "y_data = diabetes.target\n",
    "\n",
    "x_train = x_data[:-20]\n",
    "x_test = x_data[-20:]\n",
    "\n",
    "y_train = y_data[:-20]\n",
    "y_test = y_data[-20:]\n",
    "\n",
    "print(x_train.shape)\n",
    "print(y_train.shape)"
   ]
  },
  {
   "cell_type": "markdown",
   "metadata": {},
   "source": [
    "#### 1. 모델을 세운다\n",
    "\n",
    "+ 모델\n",
    "    + `h = wx + b`\n",
    "+ 코드1. 모델에 input 데이터를 넣기 위해 placeholder로 선언한다.\n",
    "+ 코드2. 모델의 parameter를 Variable로 선언한다.\n",
    "+ 코드3. 모델의 방정식을 세운다. (using `tf.add` and `tf.multiply`)"
   ]
  },
  {
   "cell_type": "code",
   "execution_count": 18,
   "metadata": {
    "collapsed": true
   },
   "outputs": [],
   "source": [
    "x = tf.placeholder(tf.float32, shape=None, name='x-input')\n",
    "y = tf.placeholder(tf.float32, shape=None, name='y-input')"
   ]
  },
  {
   "cell_type": "code",
   "execution_count": 19,
   "metadata": {
    "collapsed": true
   },
   "outputs": [],
   "source": [
    "w = tf.Variable(0, dtype=tf.float32, name=\"W\")\n",
    "b = tf.Variable(0, dtype=tf.float32, name=\"w0\")"
   ]
  },
  {
   "cell_type": "code",
   "execution_count": 20,
   "metadata": {},
   "outputs": [],
   "source": [
    "h = tf.add( tf.multiply(x, w), b)"
   ]
  },
  {
   "cell_type": "markdown",
   "metadata": {},
   "source": [
    "#### 2. 모델의 loss를 계산한 후 minimize 한다\n",
    "\n",
    "+ 코드4. 평균을 구하기 위해 input 데이터 x의 개수를 구하고, loss를 최소제곱법으로 구한다.\n",
    "+ 코드5. optimzer 알고리즘을 사용해서 loss를 minimize 한다."
   ]
  },
  {
   "cell_type": "code",
   "execution_count": 24,
   "metadata": {},
   "outputs": [],
   "source": [
    "n_samples = tf.cast(tf.size(x), tf.float32)\n",
    "loss = tf.reduce_sum( tf.pow(h, 2)/n_samples*2 )"
   ]
  },
  {
   "cell_type": "code",
   "execution_count": 26,
   "metadata": {},
   "outputs": [],
   "source": [
    "learning_rate = 0.1\n",
    "optimizer = tf.train.GradientDescentOptimizer(learning_rate).minimize(loss)"
   ]
  },
  {
   "cell_type": "markdown",
   "metadata": {},
   "source": [
    "#### 4. 모델을 Train 한다\n",
    "\n",
    "+ 코드9. train_step을 정의한다.\n",
    "+ 코드10. Session()을 with 절로 선언하고 Variable을 초기화하여 run 한다.\n",
    "+ 코드11. train_step 만큼 반복문을 선언한다. sess.run으로 출력할 요소는 `v_w_val, v_b_val, y_h_val, loss_val`이다.\n",
    "+ 코드12. feed를 정의한 다음, `sess.run()`에 fetch할 tensor를 첫 번째 인자로 넣고 두 번째 인자로 feed를 넣는다."
   ]
  },
  {
   "cell_type": "code",
   "execution_count": 33,
   "metadata": {},
   "outputs": [
    {
     "name": "stdout",
     "output_type": "stream",
     "text": [
      "('Epoch ', 0)\n",
      "('Loss', 0.0)\n",
      "('Epoch ', 1000)\n",
      "('Loss', 0.0)\n",
      "('Epoch ', 2000)\n",
      "('Loss', 0.0)\n",
      "('Epoch ', 3000)\n",
      "('Loss', 0.0)\n",
      "('Epoch ', 4000)\n",
      "('Loss', 0.0)\n",
      "('Epoch ', 5000)\n",
      "('Loss', 0.0)\n",
      "('Epoch ', 6000)\n",
      "('Loss', 0.0)\n",
      "('Epoch ', 7000)\n",
      "('Loss', 0.0)\n",
      "('Epoch ', 8000)\n",
      "('Loss', 0.0)\n",
      "('Epoch ', 9000)\n",
      "('Loss', 0.0)\n",
      "('Coefficients: \\n', 0.0)\n",
      "Mean squared error: 0.00\n"
     ]
    },
    {
     "ename": "NameError",
     "evalue": "name 'y_h' is not defined",
     "output_type": "error",
     "traceback": [
      "\u001b[0;31m---------------------------------------------------------------------------\u001b[0m",
      "\u001b[0;31mNameError\u001b[0m                                 Traceback (most recent call last)",
      "\u001b[0;32m<ipython-input-33-5136a9512b04>\u001b[0m in \u001b[0;36m<module>\u001b[0;34m()\u001b[0m\n\u001b[1;32m     25\u001b[0m     \u001b[0;31m# Plot outputs\u001b[0m\u001b[0;34m\u001b[0m\u001b[0;34m\u001b[0m\u001b[0m\n\u001b[1;32m     26\u001b[0m     \u001b[0mplt\u001b[0m\u001b[0;34m.\u001b[0m\u001b[0mscatter\u001b[0m\u001b[0;34m(\u001b[0m\u001b[0mx_test\u001b[0m\u001b[0;34m,\u001b[0m \u001b[0my_test\u001b[0m\u001b[0;34m,\u001b[0m  \u001b[0mcolor\u001b[0m\u001b[0;34m=\u001b[0m\u001b[0;34m'black'\u001b[0m\u001b[0;34m)\u001b[0m\u001b[0;34m\u001b[0m\u001b[0m\n\u001b[0;32m---> 27\u001b[0;31m     \u001b[0mtest_pred\u001b[0m \u001b[0;34m=\u001b[0m \u001b[0msess\u001b[0m\u001b[0;34m.\u001b[0m\u001b[0mrun\u001b[0m\u001b[0;34m(\u001b[0m\u001b[0my_h\u001b[0m\u001b[0;34m,\u001b[0m \u001b[0mfeed_dict\u001b[0m\u001b[0;34m=\u001b[0m\u001b[0;34m{\u001b[0m\u001b[0mx\u001b[0m\u001b[0;34m:\u001b[0m \u001b[0mx_test\u001b[0m\u001b[0;34m,\u001b[0m \u001b[0my\u001b[0m\u001b[0;34m:\u001b[0m \u001b[0;34m[\u001b[0m\u001b[0;34m]\u001b[0m\u001b[0;34m}\u001b[0m\u001b[0;34m)\u001b[0m\u001b[0;34m\u001b[0m\u001b[0m\n\u001b[0m\u001b[1;32m     28\u001b[0m     \u001b[0mplt\u001b[0m\u001b[0;34m.\u001b[0m\u001b[0mplot\u001b[0m\u001b[0;34m(\u001b[0m\u001b[0mx_test\u001b[0m\u001b[0;34m,\u001b[0m \u001b[0mtest_pred\u001b[0m\u001b[0;34m,\u001b[0m \u001b[0mcolor\u001b[0m\u001b[0;34m=\u001b[0m\u001b[0;34m'blue'\u001b[0m\u001b[0;34m,\u001b[0m \u001b[0mlinewidth\u001b[0m\u001b[0;34m=\u001b[0m\u001b[0;36m3\u001b[0m\u001b[0;34m)\u001b[0m\u001b[0;34m\u001b[0m\u001b[0m\n\u001b[1;32m     29\u001b[0m \u001b[0;34m\u001b[0m\u001b[0m\n",
      "\u001b[0;31mNameError\u001b[0m: name 'y_h' is not defined"
     ]
    },
    {
     "data": {
      "image/png": "[encoded data removed]",
      "text/plain": [
       "<matplotlib.figure.Figure at 0x7fe13edeeed0>"
      ]
     },
     "metadata": {},
     "output_type": "display_data"
    }
   ],
   "source": [
    "train_step = 10000\n",
    "\n",
    "with tf.Session() as sess:\n",
    "    init = tf.global_variables_initializer()\n",
    "    sess.run(init)\n",
    "    \n",
    "    for i in range(train_step):\n",
    "        _, v_w_val, v_b_val, y_h_val, loss_val = sess.run(\n",
    "            [optimizer, w, b, h, loss], \n",
    "            feed_dict={x: x_train, y: y_train})\n",
    "        \n",
    "        if i % 1000 == 0:\n",
    "          print('Epoch ', i)\n",
    "          print('Loss', loss_val)\n",
    "\n",
    "        if math.isnan(loss_val):\n",
    "          print('LOSS is NAN!')\n",
    "          break\n",
    "            \n",
    "    # The coefficients\n",
    "    print('Coefficients: \\n', v_w_val)\n",
    "    # The mean squared error\n",
    "    print(\"Mean squared error: %.2f\" % loss_val )\n",
    "    \n",
    "    # Plot outputs\n",
    "    plt.scatter(x_test, y_test,  color='black')\n",
    "    test_pred = sess.run(h, feed_dict={x: x_test, y: []})\n",
    "    plt.plot(x_test, test_pred, color='blue', linewidth=3)\n",
    "\n",
    "    plt.xticks(())\n",
    "    plt.yticks(())\n",
    "\n",
    "    plt.show()"
   ]
  },
  {
   "cell_type": "code",
   "execution_count": null,
   "metadata": {
    "collapsed": true
   },
   "outputs": [],
   "source": []
  }
 ],
 "metadata": {
  "kernelspec": {
   "display_name": "Python 2",
   "language": "python",
   "name": "python2"
  },
  "language_info": {
   "codemirror_mode": {
    "name": "ipython",
    "version": 2
   },
   "file_extension": ".py",
   "mimetype": "text/x-python",
   "name": "python",
   "nbconvert_exporter": "python",
   "pygments_lexer": "ipython2",
   "version": "2.7.12"
  }
 },
 "nbformat": 4,
 "nbformat_minor": 2
}
